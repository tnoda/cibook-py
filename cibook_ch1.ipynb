{
  "nbformat": 4,
  "nbformat_minor": 0,
  "metadata": {
    "colab": {
      "name": "cibook-ch1.ipynb",
      "provenance": [],
      "collapsed_sections": [],
      "toc_visible": true,
      "authorship_tag": "ABX9TyNNWKPQZRm/cBtRBL6j66iD",
      "include_colab_link": true
    },
    "kernelspec": {
      "name": "python3",
      "display_name": "Python 3"
    }
  },
  "cells": [
    {
      "cell_type": "markdown",
      "metadata": {
        "id": "view-in-github",
        "colab_type": "text"
      },
      "source": [
        "<a href=\"https://colab.research.google.com/github/tnoda/cibook-py/blob/master/cibook_ch1.ipynb\" target=\"_parent\"><img src=\"https://colab.research.google.com/assets/colab-badge.svg\" alt=\"Open In Colab\"/></a>"
      ]
    },
    {
      "cell_type": "markdown",
      "metadata": {
        "id": "CUYNJfL9v8jR",
        "colab_type": "text"
      },
      "source": [
        "# 第1章\n"
      ]
    },
    {
      "cell_type": "markdown",
      "metadata": {
        "id": "Q16Fyc7iwYjw",
        "colab_type": "text"
      },
      "source": [
        "## (1) パッケージのインストール\n",
        "\n"
      ]
    },
    {
      "cell_type": "code",
      "metadata": {
        "id": "loGBedK60ZPC",
        "colab_type": "code",
        "colab": {}
      },
      "source": [
        "pass"
      ],
      "execution_count": 0,
      "outputs": []
    },
    {
      "cell_type": "markdown",
      "metadata": {
        "id": "uQk0R5xewfcA",
        "colab_type": "text"
      },
      "source": [
        "## (2) ライブラリの読み込み"
      ]
    },
    {
      "cell_type": "code",
      "metadata": {
        "id": "R_592_YLwirb",
        "colab_type": "code",
        "colab": {}
      },
      "source": [
        "import pandas as pd"
      ],
      "execution_count": 0,
      "outputs": []
    },
    {
      "cell_type": "markdown",
      "metadata": {
        "id": "nAzPHVjPwM9q",
        "colab_type": "text"
      },
      "source": [
        "## (3) データの読み込み\n"
      ]
    },
    {
      "cell_type": "code",
      "metadata": {
        "id": "I2HwECBUqHhd",
        "colab_type": "code",
        "outputId": "8030c6fc-ad5b-41a4-c51f-fbe674fc547f",
        "colab": {
          "base_uri": "https://localhost:8080/",
          "height": 616
        }
      },
      "source": [
        "df = pd.read_csv(\"http://www.minethatdata.com/Kevin_Hillstrom_MineThatData_E-MailAnalytics_DataMiningChallenge_2008.03.20.csv\")\n",
        "df.info()\n",
        "df.describe()"
      ],
      "execution_count": 0,
      "outputs": [
        {
          "output_type": "stream",
          "text": [
            "<class 'pandas.core.frame.DataFrame'>\n",
            "RangeIndex: 64000 entries, 0 to 63999\n",
            "Data columns (total 12 columns):\n",
            "recency            64000 non-null int64\n",
            "history_segment    64000 non-null object\n",
            "history            64000 non-null float64\n",
            "mens               64000 non-null int64\n",
            "womens             64000 non-null int64\n",
            "zip_code           64000 non-null object\n",
            "newbie             64000 non-null int64\n",
            "channel            64000 non-null object\n",
            "segment            64000 non-null object\n",
            "visit              64000 non-null int64\n",
            "conversion         64000 non-null int64\n",
            "spend              64000 non-null float64\n",
            "dtypes: float64(2), int64(6), object(4)\n",
            "memory usage: 5.9+ MB\n"
          ],
          "name": "stdout"
        },
        {
          "output_type": "execute_result",
          "data": {
            "text/html": [
              "<div>\n",
              "<style scoped>\n",
              "    .dataframe tbody tr th:only-of-type {\n",
              "        vertical-align: middle;\n",
              "    }\n",
              "\n",
              "    .dataframe tbody tr th {\n",
              "        vertical-align: top;\n",
              "    }\n",
              "\n",
              "    .dataframe thead th {\n",
              "        text-align: right;\n",
              "    }\n",
              "</style>\n",
              "<table border=\"1\" class=\"dataframe\">\n",
              "  <thead>\n",
              "    <tr style=\"text-align: right;\">\n",
              "      <th></th>\n",
              "      <th>recency</th>\n",
              "      <th>history</th>\n",
              "      <th>mens</th>\n",
              "      <th>womens</th>\n",
              "      <th>newbie</th>\n",
              "      <th>visit</th>\n",
              "      <th>conversion</th>\n",
              "      <th>spend</th>\n",
              "    </tr>\n",
              "  </thead>\n",
              "  <tbody>\n",
              "    <tr>\n",
              "      <th>count</th>\n",
              "      <td>64000.000000</td>\n",
              "      <td>64000.000000</td>\n",
              "      <td>64000.000000</td>\n",
              "      <td>64000.000000</td>\n",
              "      <td>64000.000000</td>\n",
              "      <td>64000.000000</td>\n",
              "      <td>64000.000000</td>\n",
              "      <td>64000.000000</td>\n",
              "    </tr>\n",
              "    <tr>\n",
              "      <th>mean</th>\n",
              "      <td>5.763734</td>\n",
              "      <td>242.085656</td>\n",
              "      <td>0.551031</td>\n",
              "      <td>0.549719</td>\n",
              "      <td>0.502250</td>\n",
              "      <td>0.146781</td>\n",
              "      <td>0.009031</td>\n",
              "      <td>1.050908</td>\n",
              "    </tr>\n",
              "    <tr>\n",
              "      <th>std</th>\n",
              "      <td>3.507592</td>\n",
              "      <td>256.158608</td>\n",
              "      <td>0.497393</td>\n",
              "      <td>0.497526</td>\n",
              "      <td>0.499999</td>\n",
              "      <td>0.353890</td>\n",
              "      <td>0.094604</td>\n",
              "      <td>15.036448</td>\n",
              "    </tr>\n",
              "    <tr>\n",
              "      <th>min</th>\n",
              "      <td>1.000000</td>\n",
              "      <td>29.990000</td>\n",
              "      <td>0.000000</td>\n",
              "      <td>0.000000</td>\n",
              "      <td>0.000000</td>\n",
              "      <td>0.000000</td>\n",
              "      <td>0.000000</td>\n",
              "      <td>0.000000</td>\n",
              "    </tr>\n",
              "    <tr>\n",
              "      <th>25%</th>\n",
              "      <td>2.000000</td>\n",
              "      <td>64.660000</td>\n",
              "      <td>0.000000</td>\n",
              "      <td>0.000000</td>\n",
              "      <td>0.000000</td>\n",
              "      <td>0.000000</td>\n",
              "      <td>0.000000</td>\n",
              "      <td>0.000000</td>\n",
              "    </tr>\n",
              "    <tr>\n",
              "      <th>50%</th>\n",
              "      <td>6.000000</td>\n",
              "      <td>158.110000</td>\n",
              "      <td>1.000000</td>\n",
              "      <td>1.000000</td>\n",
              "      <td>1.000000</td>\n",
              "      <td>0.000000</td>\n",
              "      <td>0.000000</td>\n",
              "      <td>0.000000</td>\n",
              "    </tr>\n",
              "    <tr>\n",
              "      <th>75%</th>\n",
              "      <td>9.000000</td>\n",
              "      <td>325.657500</td>\n",
              "      <td>1.000000</td>\n",
              "      <td>1.000000</td>\n",
              "      <td>1.000000</td>\n",
              "      <td>0.000000</td>\n",
              "      <td>0.000000</td>\n",
              "      <td>0.000000</td>\n",
              "    </tr>\n",
              "    <tr>\n",
              "      <th>max</th>\n",
              "      <td>12.000000</td>\n",
              "      <td>3345.930000</td>\n",
              "      <td>1.000000</td>\n",
              "      <td>1.000000</td>\n",
              "      <td>1.000000</td>\n",
              "      <td>1.000000</td>\n",
              "      <td>1.000000</td>\n",
              "      <td>499.000000</td>\n",
              "    </tr>\n",
              "  </tbody>\n",
              "</table>\n",
              "</div>"
            ],
            "text/plain": [
              "            recency       history  ...    conversion         spend\n",
              "count  64000.000000  64000.000000  ...  64000.000000  64000.000000\n",
              "mean       5.763734    242.085656  ...      0.009031      1.050908\n",
              "std        3.507592    256.158608  ...      0.094604     15.036448\n",
              "min        1.000000     29.990000  ...      0.000000      0.000000\n",
              "25%        2.000000     64.660000  ...      0.000000      0.000000\n",
              "50%        6.000000    158.110000  ...      0.000000      0.000000\n",
              "75%        9.000000    325.657500  ...      0.000000      0.000000\n",
              "max       12.000000   3345.930000  ...      1.000000    499.000000\n",
              "\n",
              "[8 rows x 8 columns]"
            ]
          },
          "metadata": {
            "tags": []
          },
          "execution_count": 3
        }
      ]
    },
    {
      "cell_type": "code",
      "metadata": {
        "id": "hIoPu-umtl-H",
        "colab_type": "code",
        "outputId": "b3ecd7fd-1e80-40a6-adad-935ee4eda120",
        "colab": {
          "base_uri": "https://localhost:8080/",
          "height": 313
        }
      },
      "source": [
        "df.head()"
      ],
      "execution_count": 0,
      "outputs": [
        {
          "output_type": "execute_result",
          "data": {
            "text/html": [
              "<div>\n",
              "<style scoped>\n",
              "    .dataframe tbody tr th:only-of-type {\n",
              "        vertical-align: middle;\n",
              "    }\n",
              "\n",
              "    .dataframe tbody tr th {\n",
              "        vertical-align: top;\n",
              "    }\n",
              "\n",
              "    .dataframe thead th {\n",
              "        text-align: right;\n",
              "    }\n",
              "</style>\n",
              "<table border=\"1\" class=\"dataframe\">\n",
              "  <thead>\n",
              "    <tr style=\"text-align: right;\">\n",
              "      <th></th>\n",
              "      <th>recency</th>\n",
              "      <th>history_segment</th>\n",
              "      <th>history</th>\n",
              "      <th>mens</th>\n",
              "      <th>womens</th>\n",
              "      <th>zip_code</th>\n",
              "      <th>newbie</th>\n",
              "      <th>channel</th>\n",
              "      <th>segment</th>\n",
              "      <th>visit</th>\n",
              "      <th>conversion</th>\n",
              "      <th>spend</th>\n",
              "    </tr>\n",
              "  </thead>\n",
              "  <tbody>\n",
              "    <tr>\n",
              "      <th>0</th>\n",
              "      <td>10</td>\n",
              "      <td>2) $100 - $200</td>\n",
              "      <td>142.44</td>\n",
              "      <td>1</td>\n",
              "      <td>0</td>\n",
              "      <td>Surburban</td>\n",
              "      <td>0</td>\n",
              "      <td>Phone</td>\n",
              "      <td>Womens E-Mail</td>\n",
              "      <td>0</td>\n",
              "      <td>0</td>\n",
              "      <td>0.0</td>\n",
              "    </tr>\n",
              "    <tr>\n",
              "      <th>1</th>\n",
              "      <td>6</td>\n",
              "      <td>3) $200 - $350</td>\n",
              "      <td>329.08</td>\n",
              "      <td>1</td>\n",
              "      <td>1</td>\n",
              "      <td>Rural</td>\n",
              "      <td>1</td>\n",
              "      <td>Web</td>\n",
              "      <td>No E-Mail</td>\n",
              "      <td>0</td>\n",
              "      <td>0</td>\n",
              "      <td>0.0</td>\n",
              "    </tr>\n",
              "    <tr>\n",
              "      <th>2</th>\n",
              "      <td>7</td>\n",
              "      <td>2) $100 - $200</td>\n",
              "      <td>180.65</td>\n",
              "      <td>0</td>\n",
              "      <td>1</td>\n",
              "      <td>Surburban</td>\n",
              "      <td>1</td>\n",
              "      <td>Web</td>\n",
              "      <td>Womens E-Mail</td>\n",
              "      <td>0</td>\n",
              "      <td>0</td>\n",
              "      <td>0.0</td>\n",
              "    </tr>\n",
              "    <tr>\n",
              "      <th>3</th>\n",
              "      <td>9</td>\n",
              "      <td>5) $500 - $750</td>\n",
              "      <td>675.83</td>\n",
              "      <td>1</td>\n",
              "      <td>0</td>\n",
              "      <td>Rural</td>\n",
              "      <td>1</td>\n",
              "      <td>Web</td>\n",
              "      <td>Mens E-Mail</td>\n",
              "      <td>0</td>\n",
              "      <td>0</td>\n",
              "      <td>0.0</td>\n",
              "    </tr>\n",
              "    <tr>\n",
              "      <th>4</th>\n",
              "      <td>2</td>\n",
              "      <td>1) $0 - $100</td>\n",
              "      <td>45.34</td>\n",
              "      <td>1</td>\n",
              "      <td>0</td>\n",
              "      <td>Urban</td>\n",
              "      <td>0</td>\n",
              "      <td>Web</td>\n",
              "      <td>Womens E-Mail</td>\n",
              "      <td>0</td>\n",
              "      <td>0</td>\n",
              "      <td>0.0</td>\n",
              "    </tr>\n",
              "  </tbody>\n",
              "</table>\n",
              "</div>"
            ],
            "text/plain": [
              "   recency history_segment  history  ...  visit  conversion spend\n",
              "0       10  2) $100 - $200   142.44  ...      0           0   0.0\n",
              "1        6  3) $200 - $350   329.08  ...      0           0   0.0\n",
              "2        7  2) $100 - $200   180.65  ...      0           0   0.0\n",
              "3        9  5) $500 - $750   675.83  ...      0           0   0.0\n",
              "4        2    1) $0 - $100    45.34  ...      0           0   0.0\n",
              "\n",
              "[5 rows x 12 columns]"
            ]
          },
          "metadata": {
            "tags": []
          },
          "execution_count": 4
        }
      ]
    },
    {
      "cell_type": "markdown",
      "metadata": {
        "id": "fOBe-AhmwpBF",
        "colab_type": "text"
      },
      "source": [
        "## (4) データの準備"
      ]
    },
    {
      "cell_type": "code",
      "metadata": {
        "id": "1iV_XiZiuAWs",
        "colab_type": "code",
        "outputId": "8f280ff5-e2a1-4641-d1c7-fbc2a087b994",
        "colab": {
          "base_uri": "https://localhost:8080/",
          "height": 626
        }
      },
      "source": [
        "df.loc[:, 'treatment'] = df['segment'].map(lambda x: 1 if x == 'Mens E-Mail' else 0)\n",
        "male_df = df.loc[df['segment'] != 'Womens E-Mail']\n",
        "male_df.info()\n",
        "male_df.head()"
      ],
      "execution_count": 0,
      "outputs": [
        {
          "output_type": "stream",
          "text": [
            "<class 'pandas.core.frame.DataFrame'>\n",
            "Int64Index: 42613 entries, 1 to 63999\n",
            "Data columns (total 13 columns):\n",
            "recency            42613 non-null int64\n",
            "history_segment    42613 non-null object\n",
            "history            42613 non-null float64\n",
            "mens               42613 non-null int64\n",
            "womens             42613 non-null int64\n",
            "zip_code           42613 non-null object\n",
            "newbie             42613 non-null int64\n",
            "channel            42613 non-null object\n",
            "segment            42613 non-null object\n",
            "visit              42613 non-null int64\n",
            "conversion         42613 non-null int64\n",
            "spend              42613 non-null float64\n",
            "treatment          42613 non-null int64\n",
            "dtypes: float64(2), int64(7), object(4)\n",
            "memory usage: 4.6+ MB\n"
          ],
          "name": "stdout"
        },
        {
          "output_type": "execute_result",
          "data": {
            "text/html": [
              "<div>\n",
              "<style scoped>\n",
              "    .dataframe tbody tr th:only-of-type {\n",
              "        vertical-align: middle;\n",
              "    }\n",
              "\n",
              "    .dataframe tbody tr th {\n",
              "        vertical-align: top;\n",
              "    }\n",
              "\n",
              "    .dataframe thead th {\n",
              "        text-align: right;\n",
              "    }\n",
              "</style>\n",
              "<table border=\"1\" class=\"dataframe\">\n",
              "  <thead>\n",
              "    <tr style=\"text-align: right;\">\n",
              "      <th></th>\n",
              "      <th>recency</th>\n",
              "      <th>history_segment</th>\n",
              "      <th>history</th>\n",
              "      <th>mens</th>\n",
              "      <th>womens</th>\n",
              "      <th>zip_code</th>\n",
              "      <th>newbie</th>\n",
              "      <th>channel</th>\n",
              "      <th>segment</th>\n",
              "      <th>visit</th>\n",
              "      <th>conversion</th>\n",
              "      <th>spend</th>\n",
              "      <th>treatment</th>\n",
              "    </tr>\n",
              "  </thead>\n",
              "  <tbody>\n",
              "    <tr>\n",
              "      <th>1</th>\n",
              "      <td>6</td>\n",
              "      <td>3) $200 - $350</td>\n",
              "      <td>329.08</td>\n",
              "      <td>1</td>\n",
              "      <td>1</td>\n",
              "      <td>Rural</td>\n",
              "      <td>1</td>\n",
              "      <td>Web</td>\n",
              "      <td>No E-Mail</td>\n",
              "      <td>0</td>\n",
              "      <td>0</td>\n",
              "      <td>0.0</td>\n",
              "      <td>0</td>\n",
              "    </tr>\n",
              "    <tr>\n",
              "      <th>3</th>\n",
              "      <td>9</td>\n",
              "      <td>5) $500 - $750</td>\n",
              "      <td>675.83</td>\n",
              "      <td>1</td>\n",
              "      <td>0</td>\n",
              "      <td>Rural</td>\n",
              "      <td>1</td>\n",
              "      <td>Web</td>\n",
              "      <td>Mens E-Mail</td>\n",
              "      <td>0</td>\n",
              "      <td>0</td>\n",
              "      <td>0.0</td>\n",
              "      <td>1</td>\n",
              "    </tr>\n",
              "    <tr>\n",
              "      <th>8</th>\n",
              "      <td>9</td>\n",
              "      <td>5) $500 - $750</td>\n",
              "      <td>675.07</td>\n",
              "      <td>1</td>\n",
              "      <td>1</td>\n",
              "      <td>Rural</td>\n",
              "      <td>1</td>\n",
              "      <td>Phone</td>\n",
              "      <td>Mens E-Mail</td>\n",
              "      <td>0</td>\n",
              "      <td>0</td>\n",
              "      <td>0.0</td>\n",
              "      <td>1</td>\n",
              "    </tr>\n",
              "    <tr>\n",
              "      <th>13</th>\n",
              "      <td>2</td>\n",
              "      <td>2) $100 - $200</td>\n",
              "      <td>101.64</td>\n",
              "      <td>0</td>\n",
              "      <td>1</td>\n",
              "      <td>Urban</td>\n",
              "      <td>0</td>\n",
              "      <td>Web</td>\n",
              "      <td>Mens E-Mail</td>\n",
              "      <td>1</td>\n",
              "      <td>0</td>\n",
              "      <td>0.0</td>\n",
              "      <td>1</td>\n",
              "    </tr>\n",
              "    <tr>\n",
              "      <th>14</th>\n",
              "      <td>4</td>\n",
              "      <td>3) $200 - $350</td>\n",
              "      <td>241.42</td>\n",
              "      <td>0</td>\n",
              "      <td>1</td>\n",
              "      <td>Rural</td>\n",
              "      <td>1</td>\n",
              "      <td>Multichannel</td>\n",
              "      <td>No E-Mail</td>\n",
              "      <td>0</td>\n",
              "      <td>0</td>\n",
              "      <td>0.0</td>\n",
              "      <td>0</td>\n",
              "    </tr>\n",
              "  </tbody>\n",
              "</table>\n",
              "</div>"
            ],
            "text/plain": [
              "    recency history_segment  history  mens  ...  visit conversion  spend treatment\n",
              "1         6  3) $200 - $350   329.08     1  ...      0          0    0.0         0\n",
              "3         9  5) $500 - $750   675.83     1  ...      0          0    0.0         1\n",
              "8         9  5) $500 - $750   675.07     1  ...      0          0    0.0         1\n",
              "13        2  2) $100 - $200   101.64     0  ...      1          0    0.0         1\n",
              "14        4  3) $200 - $350   241.42     0  ...      0          0    0.0         0\n",
              "\n",
              "[5 rows x 13 columns]"
            ]
          },
          "metadata": {
            "tags": []
          },
          "execution_count": 5
        }
      ]
    },
    {
      "cell_type": "markdown",
      "metadata": {
        "id": "GJFYTToSw-nK",
        "colab_type": "text"
      },
      "source": [
        "## (5) 集計による比較"
      ]
    },
    {
      "cell_type": "code",
      "metadata": {
        "id": "4XwD6zb4xB8-",
        "colab_type": "code",
        "outputId": "884fbd00-3857-4ba1-c0f2-6fb6d7642cfd",
        "colab": {
          "base_uri": "https://localhost:8080/",
          "height": 175
        }
      },
      "source": [
        "male_df.groupby('treatment').agg({'spend': 'mean', 'conversion': ['mean', 'count']})"
      ],
      "execution_count": 0,
      "outputs": [
        {
          "output_type": "execute_result",
          "data": {
            "text/html": [
              "<div>\n",
              "<style scoped>\n",
              "    .dataframe tbody tr th:only-of-type {\n",
              "        vertical-align: middle;\n",
              "    }\n",
              "\n",
              "    .dataframe tbody tr th {\n",
              "        vertical-align: top;\n",
              "    }\n",
              "\n",
              "    .dataframe thead tr th {\n",
              "        text-align: left;\n",
              "    }\n",
              "\n",
              "    .dataframe thead tr:last-of-type th {\n",
              "        text-align: right;\n",
              "    }\n",
              "</style>\n",
              "<table border=\"1\" class=\"dataframe\">\n",
              "  <thead>\n",
              "    <tr>\n",
              "      <th></th>\n",
              "      <th>spend</th>\n",
              "      <th colspan=\"2\" halign=\"left\">conversion</th>\n",
              "    </tr>\n",
              "    <tr>\n",
              "      <th></th>\n",
              "      <th>mean</th>\n",
              "      <th>mean</th>\n",
              "      <th>count</th>\n",
              "    </tr>\n",
              "    <tr>\n",
              "      <th>treatment</th>\n",
              "      <th></th>\n",
              "      <th></th>\n",
              "      <th></th>\n",
              "    </tr>\n",
              "  </thead>\n",
              "  <tbody>\n",
              "    <tr>\n",
              "      <th>0</th>\n",
              "      <td>0.652789</td>\n",
              "      <td>0.005726</td>\n",
              "      <td>21306</td>\n",
              "    </tr>\n",
              "    <tr>\n",
              "      <th>1</th>\n",
              "      <td>1.422617</td>\n",
              "      <td>0.012531</td>\n",
              "      <td>21307</td>\n",
              "    </tr>\n",
              "  </tbody>\n",
              "</table>\n",
              "</div>"
            ],
            "text/plain": [
              "              spend conversion       \n",
              "               mean       mean  count\n",
              "treatment                            \n",
              "0          0.652789   0.005726  21306\n",
              "1          1.422617   0.012531  21307"
            ]
          },
          "metadata": {
            "tags": []
          },
          "execution_count": 6
        }
      ]
    },
    {
      "cell_type": "markdown",
      "metadata": {
        "id": "2uVDrpnXlBsP",
        "colab_type": "text"
      },
      "source": [
        "## (6) t検定を行う"
      ]
    },
    {
      "cell_type": "markdown",
      "metadata": {
        "id": "KdiL1elNlEdU",
        "colab_type": "text"
      },
      "source": [
        "(a) 男性向けメールが配信されたグループの購買データを得る。"
      ]
    },
    {
      "cell_type": "code",
      "metadata": {
        "id": "yItHdjTDlVNH",
        "colab_type": "code",
        "outputId": "775ec952-c7e3-40ff-a8a3-eab71e01cfd1",
        "colab": {
          "base_uri": "https://localhost:8080/",
          "height": 421
        }
      },
      "source": [
        "mens_mail = male_df.loc[male_df['treatment'] == 1, 'spend']\n",
        "mens_mail.hist(bins=100)\n",
        "mens_mail.describe()"
      ],
      "execution_count": 0,
      "outputs": [
        {
          "output_type": "execute_result",
          "data": {
            "text/plain": [
              "count    21307.000000\n",
              "mean         1.422617\n",
              "std         17.754205\n",
              "min          0.000000\n",
              "25%          0.000000\n",
              "50%          0.000000\n",
              "75%          0.000000\n",
              "max        499.000000\n",
              "Name: spend, dtype: float64"
            ]
          },
          "metadata": {
            "tags": []
          },
          "execution_count": 7
        },
        {
          "output_type": "display_data",
          "data": {
            "image/png": "[encoded data removed]",
            "text/plain": [
              "<Figure size 432x288 with 1 Axes>"
            ]
          },
          "metadata": {
            "tags": []
          }
        }
      ]
    },
    {
      "cell_type": "markdown",
      "metadata": {
        "id": "uQMnamdol4Jc",
        "colab_type": "text"
      },
      "source": [
        "(b) メールが配信されなかったグループの購買データを得る。"
      ]
    },
    {
      "cell_type": "code",
      "metadata": {
        "id": "0_v-3NTMl8Zc",
        "colab_type": "code",
        "outputId": "aaccb7d8-2764-411c-bf23-fe0869a471b8",
        "colab": {
          "base_uri": "https://localhost:8080/",
          "height": 421
        }
      },
      "source": [
        "no_mail = male_df.loc[male_df['treatment'] == 0, 'spend']\n",
        "no_mail.hist(bins=100)\n",
        "no_mail.describe()"
      ],
      "execution_count": 0,
      "outputs": [
        {
          "output_type": "execute_result",
          "data": {
            "text/plain": [
              "count    21306.000000\n",
              "mean         0.652789\n",
              "std         11.588200\n",
              "min          0.000000\n",
              "25%          0.000000\n",
              "50%          0.000000\n",
              "75%          0.000000\n",
              "max        499.000000\n",
              "Name: spend, dtype: float64"
            ]
          },
          "metadata": {
            "tags": []
          },
          "execution_count": 8
        },
        {
          "output_type": "display_data",
          "data": {
            "image/png": "[encoded data removed]",
            "text/plain": [
              "<Figure size 432x288 with 1 Axes>"
            ]
          },
          "metadata": {
            "tags": []
          }
        }
      ]
    },
    {
      "cell_type": "markdown",
      "metadata": {
        "id": "j0pCO9atmDbc",
        "colab_type": "text"
      },
      "source": [
        "上の (a), (b) の平均の差に対して有意差検定を実行。"
      ]
    },
    {
      "cell_type": "code",
      "metadata": {
        "id": "lttOf2tEpceT",
        "colab_type": "code",
        "outputId": "9bef91c6-891a-47c6-d970-158b49315c80",
        "colab": {
          "base_uri": "https://localhost:8080/",
          "height": 79
        }
      },
      "source": [
        "from statsmodels.stats.weightstats import DescrStatsW, CompareMeans\n",
        "\n",
        "\n",
        "rct_ttest = CompareMeans(DescrStatsW(mens_mail), DescrStatsW(no_mail))\n",
        "rct_ttest.ttest_ind()  # defaults two-sided, pooled\n",
        "rct_ttest.summary()"
      ],
      "execution_count": 0,
      "outputs": [
        {
          "output_type": "execute_result",
          "data": {
            "text/html": [
              "<table class=\"simpletable\">\n",
              "<caption>Test for equality of means</caption>\n",
              "<tr>\n",
              "      <td></td>         <th>coef</th>     <th>std err</th>      <th>t</th>      <th>P>|t|</th>  <th>[0.025</th>    <th>0.975]</th>  \n",
              "</tr>\n",
              "<tr>\n",
              "  <th>subset #1</th> <td>    0.7698</td> <td>    0.145</td> <td>    5.300</td> <td> 0.000</td> <td>    0.485</td> <td>    1.055</td>\n",
              "</tr>\n",
              "</table>"
            ],
            "text/plain": [
              "<class 'statsmodels.iolib.table.SimpleTable'>"
            ]
          },
          "metadata": {
            "tags": []
          },
          "execution_count": 9
        }
      ]
    },
    {
      "cell_type": "markdown",
      "metadata": {
        "id": "TQLnUg9-nBNn",
        "colab_type": "text"
      },
      "source": [
        "## (7) セレクションバイアスのあるデータの作成"
      ]
    },
    {
      "cell_type": "code",
      "metadata": {
        "id": "uJut8fLpnGGY",
        "colab_type": "code",
        "outputId": "9deba3c8-75f4-4f9d-ca72-b95fb7121ef3",
        "colab": {
          "base_uri": "https://localhost:8080/",
          "height": 633
        }
      },
      "source": [
        "def bias(s):\n",
        "  loyal = s['history'] > 300 or s['recency'] < 3 or s['channel'] == 'Multichannel'\n",
        "  if (s['treatment'] == 1 and not loyal) or (s['treatment'] == 0 and loyal):\n",
        "    return 0.5\n",
        "  else:\n",
        "    return 1.0\n",
        "\n",
        "\n",
        "biased_data = male_df.sample(frac=0.75, weights=male_df.apply(bias, axis=1), random_state=42)\n",
        "biased_data.info()\n",
        "biased_data.describe()"
      ],
      "execution_count": 0,
      "outputs": [
        {
          "output_type": "stream",
          "text": [
            "<class 'pandas.core.frame.DataFrame'>\n",
            "Int64Index: 31960 entries, 24106 to 49857\n",
            "Data columns (total 13 columns):\n",
            "recency            31960 non-null int64\n",
            "history_segment    31960 non-null object\n",
            "history            31960 non-null float64\n",
            "mens               31960 non-null int64\n",
            "womens             31960 non-null int64\n",
            "zip_code           31960 non-null object\n",
            "newbie             31960 non-null int64\n",
            "channel            31960 non-null object\n",
            "segment            31960 non-null object\n",
            "visit              31960 non-null int64\n",
            "conversion         31960 non-null int64\n",
            "spend              31960 non-null float64\n",
            "treatment          31960 non-null int64\n",
            "dtypes: float64(2), int64(7), object(4)\n",
            "memory usage: 3.4+ MB\n"
          ],
          "name": "stdout"
        },
        {
          "output_type": "execute_result",
          "data": {
            "text/html": [
              "<div>\n",
              "<style scoped>\n",
              "    .dataframe tbody tr th:only-of-type {\n",
              "        vertical-align: middle;\n",
              "    }\n",
              "\n",
              "    .dataframe tbody tr th {\n",
              "        vertical-align: top;\n",
              "    }\n",
              "\n",
              "    .dataframe thead th {\n",
              "        text-align: right;\n",
              "    }\n",
              "</style>\n",
              "<table border=\"1\" class=\"dataframe\">\n",
              "  <thead>\n",
              "    <tr style=\"text-align: right;\">\n",
              "      <th></th>\n",
              "      <th>recency</th>\n",
              "      <th>history</th>\n",
              "      <th>mens</th>\n",
              "      <th>womens</th>\n",
              "      <th>newbie</th>\n",
              "      <th>visit</th>\n",
              "      <th>conversion</th>\n",
              "      <th>spend</th>\n",
              "      <th>treatment</th>\n",
              "    </tr>\n",
              "  </thead>\n",
              "  <tbody>\n",
              "    <tr>\n",
              "      <th>count</th>\n",
              "      <td>31960.000000</td>\n",
              "      <td>31960.000000</td>\n",
              "      <td>31960.000000</td>\n",
              "      <td>31960.000000</td>\n",
              "      <td>31960.000000</td>\n",
              "      <td>31960.000000</td>\n",
              "      <td>31960.000000</td>\n",
              "      <td>31960.000000</td>\n",
              "      <td>31960.000000</td>\n",
              "    </tr>\n",
              "    <tr>\n",
              "      <th>mean</th>\n",
              "      <td>5.751627</td>\n",
              "      <td>241.948550</td>\n",
              "      <td>0.550344</td>\n",
              "      <td>0.551439</td>\n",
              "      <td>0.502096</td>\n",
              "      <td>0.146402</td>\n",
              "      <td>0.009637</td>\n",
              "      <td>1.115278</td>\n",
              "      <td>0.492272</td>\n",
              "    </tr>\n",
              "    <tr>\n",
              "      <th>std</th>\n",
              "      <td>3.508254</td>\n",
              "      <td>257.929171</td>\n",
              "      <td>0.497467</td>\n",
              "      <td>0.497355</td>\n",
              "      <td>0.500003</td>\n",
              "      <td>0.353514</td>\n",
              "      <td>0.097696</td>\n",
              "      <td>15.730681</td>\n",
              "      <td>0.499948</td>\n",
              "    </tr>\n",
              "    <tr>\n",
              "      <th>min</th>\n",
              "      <td>1.000000</td>\n",
              "      <td>29.990000</td>\n",
              "      <td>0.000000</td>\n",
              "      <td>0.000000</td>\n",
              "      <td>0.000000</td>\n",
              "      <td>0.000000</td>\n",
              "      <td>0.000000</td>\n",
              "      <td>0.000000</td>\n",
              "      <td>0.000000</td>\n",
              "    </tr>\n",
              "    <tr>\n",
              "      <th>25%</th>\n",
              "      <td>2.000000</td>\n",
              "      <td>63.907500</td>\n",
              "      <td>0.000000</td>\n",
              "      <td>0.000000</td>\n",
              "      <td>0.000000</td>\n",
              "      <td>0.000000</td>\n",
              "      <td>0.000000</td>\n",
              "      <td>0.000000</td>\n",
              "      <td>0.000000</td>\n",
              "    </tr>\n",
              "    <tr>\n",
              "      <th>50%</th>\n",
              "      <td>5.000000</td>\n",
              "      <td>156.085000</td>\n",
              "      <td>1.000000</td>\n",
              "      <td>1.000000</td>\n",
              "      <td>1.000000</td>\n",
              "      <td>0.000000</td>\n",
              "      <td>0.000000</td>\n",
              "      <td>0.000000</td>\n",
              "      <td>0.000000</td>\n",
              "    </tr>\n",
              "    <tr>\n",
              "      <th>75%</th>\n",
              "      <td>9.000000</td>\n",
              "      <td>324.485000</td>\n",
              "      <td>1.000000</td>\n",
              "      <td>1.000000</td>\n",
              "      <td>1.000000</td>\n",
              "      <td>0.000000</td>\n",
              "      <td>0.000000</td>\n",
              "      <td>0.000000</td>\n",
              "      <td>1.000000</td>\n",
              "    </tr>\n",
              "    <tr>\n",
              "      <th>max</th>\n",
              "      <td>12.000000</td>\n",
              "      <td>3215.970000</td>\n",
              "      <td>1.000000</td>\n",
              "      <td>1.000000</td>\n",
              "      <td>1.000000</td>\n",
              "      <td>1.000000</td>\n",
              "      <td>1.000000</td>\n",
              "      <td>499.000000</td>\n",
              "      <td>1.000000</td>\n",
              "    </tr>\n",
              "  </tbody>\n",
              "</table>\n",
              "</div>"
            ],
            "text/plain": [
              "            recency       history  ...         spend     treatment\n",
              "count  31960.000000  31960.000000  ...  31960.000000  31960.000000\n",
              "mean       5.751627    241.948550  ...      1.115278      0.492272\n",
              "std        3.508254    257.929171  ...     15.730681      0.499948\n",
              "min        1.000000     29.990000  ...      0.000000      0.000000\n",
              "25%        2.000000     63.907500  ...      0.000000      0.000000\n",
              "50%        5.000000    156.085000  ...      0.000000      0.000000\n",
              "75%        9.000000    324.485000  ...      0.000000      1.000000\n",
              "max       12.000000   3215.970000  ...    499.000000      1.000000\n",
              "\n",
              "[8 rows x 9 columns]"
            ]
          },
          "metadata": {
            "tags": []
          },
          "execution_count": 10
        }
      ]
    },
    {
      "cell_type": "markdown",
      "metadata": {
        "id": "l9kqDGw_stez",
        "colab_type": "text"
      },
      "source": [
        "(8) セレクションバイアスのあるデータで平均を比較"
      ]
    },
    {
      "cell_type": "code",
      "metadata": {
        "id": "fwe7Z-0Vsumz",
        "colab_type": "code",
        "outputId": "ece1d793-20b1-45ff-feec-0509f12229e9",
        "colab": {
          "base_uri": "https://localhost:8080/",
          "height": 175
        }
      },
      "source": [
        "biased_data.groupby('treatment').agg({'spend': 'mean', 'conversion': ['mean', 'count']})"
      ],
      "execution_count": 0,
      "outputs": [
        {
          "output_type": "execute_result",
          "data": {
            "text/html": [
              "<div>\n",
              "<style scoped>\n",
              "    .dataframe tbody tr th:only-of-type {\n",
              "        vertical-align: middle;\n",
              "    }\n",
              "\n",
              "    .dataframe tbody tr th {\n",
              "        vertical-align: top;\n",
              "    }\n",
              "\n",
              "    .dataframe thead tr th {\n",
              "        text-align: left;\n",
              "    }\n",
              "\n",
              "    .dataframe thead tr:last-of-type th {\n",
              "        text-align: right;\n",
              "    }\n",
              "</style>\n",
              "<table border=\"1\" class=\"dataframe\">\n",
              "  <thead>\n",
              "    <tr>\n",
              "      <th></th>\n",
              "      <th>spend</th>\n",
              "      <th colspan=\"2\" halign=\"left\">conversion</th>\n",
              "    </tr>\n",
              "    <tr>\n",
              "      <th></th>\n",
              "      <th>mean</th>\n",
              "      <th>mean</th>\n",
              "      <th>count</th>\n",
              "    </tr>\n",
              "    <tr>\n",
              "      <th>treatment</th>\n",
              "      <th></th>\n",
              "      <th></th>\n",
              "      <th></th>\n",
              "    </tr>\n",
              "  </thead>\n",
              "  <tbody>\n",
              "    <tr>\n",
              "      <th>0</th>\n",
              "      <td>0.609540</td>\n",
              "      <td>0.005670</td>\n",
              "      <td>16227</td>\n",
              "    </tr>\n",
              "    <tr>\n",
              "      <th>1</th>\n",
              "      <td>1.636894</td>\n",
              "      <td>0.013729</td>\n",
              "      <td>15733</td>\n",
              "    </tr>\n",
              "  </tbody>\n",
              "</table>\n",
              "</div>"
            ],
            "text/plain": [
              "              spend conversion       \n",
              "               mean       mean  count\n",
              "treatment                            \n",
              "0          0.609540   0.005670  16227\n",
              "1          1.636894   0.013729  15733"
            ]
          },
          "metadata": {
            "tags": []
          },
          "execution_count": 11
        }
      ]
    },
    {
      "cell_type": "markdown",
      "metadata": {
        "id": "UWD0QGE8xSLI",
        "colab_type": "text"
      },
      "source": [
        "(9) Statsmodels のクラスである `CompareMeans` を使って t検定を行う(Biased)"
      ]
    },
    {
      "cell_type": "markdown",
      "metadata": {
        "id": "ORxdxBVGxT8w",
        "colab_type": "text"
      },
      "source": [
        "(a) 男性向けメールが配信されたグループの購買データを得る。"
      ]
    },
    {
      "cell_type": "code",
      "metadata": {
        "id": "jPHOQSeMxZ11",
        "colab_type": "code",
        "outputId": "455f86c4-9ea8-4e60-c4dc-1148eaccb1af",
        "colab": {
          "base_uri": "https://localhost:8080/",
          "height": 421
        }
      },
      "source": [
        "mens_mail_biased = biased_data.loc[biased_data['treatment'] == 1, 'spend']\n",
        "mens_mail_biased.hist(bins=100)\n",
        "mens_mail_biased.describe()"
      ],
      "execution_count": 0,
      "outputs": [
        {
          "output_type": "execute_result",
          "data": {
            "text/plain": [
              "count    15733.000000\n",
              "mean         1.636894\n",
              "std         19.459376\n",
              "min          0.000000\n",
              "25%          0.000000\n",
              "50%          0.000000\n",
              "75%          0.000000\n",
              "max        499.000000\n",
              "Name: spend, dtype: float64"
            ]
          },
          "metadata": {
            "tags": []
          },
          "execution_count": 12
        },
        {
          "output_type": "display_data",
          "data": {
            "image/png": "[encoded data removed]",
            "text/plain": [
              "<Figure size 432x288 with 1 Axes>"
            ]
          },
          "metadata": {
            "tags": []
          }
        }
      ]
    },
    {
      "cell_type": "markdown",
      "metadata": {
        "id": "nIKFUXUsyQ48",
        "colab_type": "text"
      },
      "source": [
        "(b) メールが配信されなかったグループの購買データを得る"
      ]
    },
    {
      "cell_type": "code",
      "metadata": {
        "id": "uzHDemsRyU8V",
        "colab_type": "code",
        "outputId": "1bece77a-0c41-492c-af26-af224d127c87",
        "colab": {
          "base_uri": "https://localhost:8080/",
          "height": 421
        }
      },
      "source": [
        "no_mail_biased = biased_data.loc[biased_data['treatment'] == 0, 'spend']\n",
        "no_mail_biased.hist(bins=100)\n",
        "no_mail_biased.describe()"
      ],
      "execution_count": 0,
      "outputs": [
        {
          "output_type": "execute_result",
          "data": {
            "text/plain": [
              "count    16227.00000\n",
              "mean         0.60954\n",
              "std         10.94220\n",
              "min          0.00000\n",
              "25%          0.00000\n",
              "50%          0.00000\n",
              "75%          0.00000\n",
              "max        499.00000\n",
              "Name: spend, dtype: float64"
            ]
          },
          "metadata": {
            "tags": []
          },
          "execution_count": 13
        },
        {
          "output_type": "display_data",
          "data": {
            "image/png": "[encoded data removed]",
            "text/plain": [
              "<Figure size 432x288 with 1 Axes>"
            ]
          },
          "metadata": {
            "tags": []
          }
        }
      ]
    },
    {
      "cell_type": "markdown",
      "metadata": {
        "id": "v0Hd8gIu0M8L",
        "colab_type": "text"
      },
      "source": [
        "(a)(b)の平均の差に対して有意差検定を実行"
      ]
    },
    {
      "cell_type": "code",
      "metadata": {
        "id": "pcFRGS6eyu93",
        "colab_type": "code",
        "outputId": "1933035f-1438-4502-9bf2-f1e176f549d1",
        "colab": {
          "base_uri": "https://localhost:8080/",
          "height": 79
        }
      },
      "source": [
        "rct_ttest_biased = CompareMeans(DescrStatsW(mens_mail_biased), DescrStatsW(no_mail_biased))\n",
        "rct_ttest_biased.ttest_ind()  # defaults two-sided, pooled\n",
        "rct_ttest_biased.summary()"
      ],
      "execution_count": 0,
      "outputs": [
        {
          "output_type": "execute_result",
          "data": {
            "text/html": [
              "<table class=\"simpletable\">\n",
              "<caption>Test for equality of means</caption>\n",
              "<tr>\n",
              "      <td></td>         <th>coef</th>     <th>std err</th>      <th>t</th>      <th>P>|t|</th>  <th>[0.025</th>    <th>0.975]</th>  \n",
              "</tr>\n",
              "<tr>\n",
              "  <th>subset #1</th> <td>    1.0274</td> <td>    0.176</td> <td>    5.840</td> <td> 0.000</td> <td>    0.683</td> <td>    1.372</td>\n",
              "</tr>\n",
              "</table>"
            ],
            "text/plain": [
              "<class 'statsmodels.iolib.table.SimpleTable'>"
            ]
          },
          "metadata": {
            "tags": []
          },
          "execution_count": 14
        }
      ]
    },
    {
      "cell_type": "markdown",
      "metadata": {
        "id": "4vvdVdpW4Ank",
        "colab_type": "text"
      },
      "source": [
        "# 余談"
      ]
    },
    {
      "cell_type": "markdown",
      "metadata": {
        "id": "Konr84W-4Ivw",
        "colab_type": "text"
      },
      "source": [
        "この場合だと，コンバージョンが上がったことを検定するまでもないですが，念のために確認します。"
      ]
    },
    {
      "cell_type": "code",
      "metadata": {
        "id": "M21JxcCA4S0q",
        "colab_type": "code",
        "outputId": "d312c5cb-f30b-4835-f6c0-dab9af0f0da0",
        "colab": {
          "base_uri": "https://localhost:8080/",
          "height": 126
        }
      },
      "source": [
        "from statsmodels.stats.contingency_tables import Table2x2\n",
        "\n",
        "\n",
        "ct = Table2x2(pd.crosstab(male_df['treatment'], df['conversion']))\n",
        "ct.summary()"
      ],
      "execution_count": 0,
      "outputs": [
        {
          "output_type": "execute_result",
          "data": {
            "text/html": [
              "<table class=\"simpletable\">\n",
              "<tr>\n",
              "         <td></td>        <th>Estimate</th>  <th>SE</th>    <th>LCB</th>   <th>UCB</th>  <th>p-value</th>\n",
              "</tr>\n",
              "<tr>\n",
              "  <th>Odds ratio</th>        <td>2.204</td>      <td></td> <td>1.777</td> <td>2.732</td>   <td>0.000</td>\n",
              "</tr>\n",
              "<tr>\n",
              "  <th>Log odds ratio</th>    <td>0.790</td> <td>0.110</td> <td>0.575</td> <td>1.005</td>   <td>0.000</td>\n",
              "</tr>\n",
              "<tr>\n",
              "  <th>Risk ratio</th>        <td>1.007</td>      <td></td> <td>1.005</td> <td>1.009</td>   <td>0.000</td>\n",
              "</tr>\n",
              "<tr>\n",
              "  <th>Log risk ratio</th>    <td>0.007</td> <td>0.001</td> <td>0.005</td> <td>0.009</td>   <td>0.000</td>\n",
              "</tr>\n",
              "</table>"
            ],
            "text/plain": [
              "<class 'statsmodels.iolib.table.SimpleTable'>"
            ]
          },
          "metadata": {
            "tags": []
          },
          "execution_count": 15
        }
      ]
    },
    {
      "cell_type": "code",
      "metadata": {
        "id": "H_pA1JA96GE2",
        "colab_type": "code",
        "outputId": "4302035b-752a-408b-ab78-05ff5e5f547c",
        "colab": {
          "base_uri": "https://localhost:8080/",
          "height": 69
        }
      },
      "source": [
        "chi2_test = ct.test_nominal_association()\n",
        "print(chi2_test)"
      ],
      "execution_count": 0,
      "outputs": [
        {
          "output_type": "stream",
          "text": [
            "df          1\n",
            "pvalue      1.5232259897857148e-13\n",
            "statistic   54.53991486246349\n"
          ],
          "name": "stdout"
        }
      ]
    },
    {
      "cell_type": "markdown",
      "metadata": {
        "id": "CYPRCNe-80Gp",
        "colab_type": "text"
      },
      "source": [
        "数万人に対して $0.5$% 程度のコンバージョンが倍になっている e メール施策なので効果無い訳ないのは当然なので，どちらかというと検定より，費用対効果確認したいですね。"
      ]
    },
    {
      "cell_type": "markdown",
      "metadata": {
        "id": "ZFCUwz5R9eiX",
        "colab_type": "text"
      },
      "source": [
        "客単価どうなっているか念のために見てみましょう。"
      ]
    },
    {
      "cell_type": "code",
      "metadata": {
        "id": "XkHhU7yO9iRt",
        "colab_type": "code",
        "outputId": "749e4de0-b4ba-4823-ce36-f3b1cfce1f49",
        "colab": {
          "base_uri": "https://localhost:8080/",
          "height": 421
        }
      },
      "source": [
        "t0_spend = male_df.loc[(male_df['treatment'] == 0) & (male_df['spend'] > 0), 'spend']\n",
        "t0_spend.hist(bins=100)\n",
        "t0_spend.describe()"
      ],
      "execution_count": 0,
      "outputs": [
        {
          "output_type": "execute_result",
          "data": {
            "text/plain": [
              "count    122.000000\n",
              "mean     114.002705\n",
              "std      103.031052\n",
              "min       29.990000\n",
              "25%       35.040000\n",
              "50%       88.365000\n",
              "75%      146.170000\n",
              "max      499.000000\n",
              "Name: spend, dtype: float64"
            ]
          },
          "metadata": {
            "tags": []
          },
          "execution_count": 17
        },
        {
          "output_type": "display_data",
          "data": {
            "image/png": "[encoded data removed]",
            "text/plain": [
              "<Figure size 432x288 with 1 Axes>"
            ]
          },
          "metadata": {
            "tags": []
          }
        }
      ]
    },
    {
      "cell_type": "code",
      "metadata": {
        "id": "_V-NsuA1-B4_",
        "colab_type": "code",
        "outputId": "7375b4cb-d66a-4e41-8c5f-bd2049b2c956",
        "colab": {
          "base_uri": "https://localhost:8080/",
          "height": 421
        }
      },
      "source": [
        "t1_spend = male_df.loc[(male_df['treatment'] == 1) & (male_df['spend'] > 0), 'spend']\n",
        "t1_spend.hist(bins=100)\n",
        "t1_spend.describe()"
      ],
      "execution_count": 0,
      "outputs": [
        {
          "output_type": "execute_result",
          "data": {
            "text/plain": [
              "count    267.000000\n",
              "mean     113.526929\n",
              "std      111.682812\n",
              "min       29.990000\n",
              "25%       29.990000\n",
              "50%       66.980000\n",
              "75%      152.720000\n",
              "max      499.000000\n",
              "Name: spend, dtype: float64"
            ]
          },
          "metadata": {
            "tags": []
          },
          "execution_count": 18
        },
        {
          "output_type": "display_data",
          "data": {
            "image/png": "[encoded data removed]",
            "text/plain": [
              "<Figure size 432x288 with 1 Axes>"
            ]
          },
          "metadata": {
            "tags": []
          }
        }
      ]
    },
    {
      "cell_type": "markdown",
      "metadata": {
        "id": "uxl14lWk-XKc",
        "colab_type": "text"
      },
      "source": [
        "まあ，なんというか微妙"
      ]
    }
  ]
}